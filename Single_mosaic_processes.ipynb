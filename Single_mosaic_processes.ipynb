{
 "cells": [
  {
   "cell_type": "markdown",
   "id": "5ab94aa7",
   "metadata": {},
   "source": [
    "Space to scratch out the mechanism for running all the processes I want to run on individual ROIs of classified cone mosaic data."
   ]
  },
  {
   "cell_type": "markdown",
   "id": "68778ea0",
   "metadata": {},
   "source": [
    "User Inputs (this will eventually be a .yml that the user edits and is read in by the single-mosaic-process executable)"
   ]
  },
  {
   "cell_type": "code",
   "execution_count": 15,
   "id": "f0bb4a37",
   "metadata": {},
   "outputs": [],
   "source": [
    "# Paths\n",
    "# -----\n",
    "# load and save folder. all coordinate and image data must be in the load folder ()\n",
    "# if there is already analyses for a mosaic that you want to add analyses to, it must \n",
    "# be located in the save file the same name as the coordinate file but with the save file-type\n",
    "data_path = 'C:\\\\Users\\\\schle\\Documents\\\\GitHub\\\\Incubator-2022-Geometry-of-Color\\\\CSV data all OCT locs Jan 2022\\\\'\n",
    "save_path = 'Z:\\\\Sierra\\\\Incubator Data Pass\\\\'\n",
    "\n",
    "# settings that define the files that will be searched for in the load folder above.\n",
    "# processes indicated below will be run on all such files found. \n",
    "subject = ['AO001R', 'AO008R']\n",
    "angle = ['temporal', 'nasal', 'superior', 'inferior']\n",
    "eccentricity = ['1.5','3.5', '4', '4.5', '10']\n",
    "conetype = ['all','L','M','S','unclassed']\n",
    "conetype_color = ['y','r','g','b','w']\n",
    "coord_unit = 'pixels' # units of the coordinate data loaded in - any string you want\n",
    "\n",
    "# Run settings\n",
    "# ------------\n",
    "# select single-mosaic processes to run\n",
    "# options: 'basic stats', 'intracone_dists', 'monteCarlo_Uniform', 'monteCarlo_coneLocked\n",
    "# proc_to_run = {\n",
    "#      'intracone_dist', \n",
    "# #     'monteCarlo_uniform', \n",
    "#      'monteCarlo_uniform_intracone_dist', \n",
    "# #     'monteCarlo_coneLocked',\n",
    "#      'monteCarlo_coneLocked_intracone_dist',\n",
    "#      'norm_by_MCU_mean'}\n",
    "proc_to_run = {'norm_by_MCU_mean'}\n",
    "    \n",
    "# indicate whether all processes requested will be run on all mosaics found fitting the inputs above,\n",
    "# or processes will only be run for a file if that process' outputs are not present in an identified save file\n",
    "data_to_run = 'all' # 'all', absent_only\n",
    "\n",
    "# Process-specific Settings\n",
    "# -------------------------\n",
    "# intracone distance settings\n",
    "dist_area_norm = False # bool\n",
    "\n",
    "# monteCarlo_uniform and monteCarlo-coneLocked settings\n",
    "num_mc = 1000 # number of monte carlo mosaics to generate"
   ]
  },
  {
   "cell_type": "markdown",
   "id": "efcc4f7c",
   "metadata": {},
   "source": [
    "Import packages, some additional hardcoded variables (move these to a settings file eventually), helpful type changes, and variable grouping. \n",
    "\n",
    "Some of cell would be contained in a separate configuration file, but most of the content from here on in the notebook needs to be contained in an executable.  "
   ]
  },
  {
   "cell_type": "code",
   "execution_count": 16,
   "id": "6835d4ce",
   "metadata": {},
   "outputs": [],
   "source": [
    "import numpy as np\n",
    "import matplotlib.pyplot as plt\n",
    "from scipy import spatial\n",
    "import os\n",
    "import h5py\n",
    "import importlib\n",
    "import glob\n",
    "import yaml\n",
    "import sys\n",
    "\n",
    "import mosaic_topog.utilities as util\n",
    "import mosaic_topog.flsyst as flsyst\n",
    "import mosaic_topog.show as show\n",
    "import mosaic_topog.calc as calc\n",
    "import mosaic_topog.singleMosaicProcesses as smp\n",
    "\n",
    "subject = np.asarray(subject)\n",
    "angle = np.asarray(angle)\n",
    "eccentricity = np.asarray(eccentricity)\n",
    "\n",
    "single_mosaic_savefl_config = 'savefl_config.yml'\n",
    "\n",
    "coord_fltype = '.csv'\n",
    "img_fltype = '.png'\n",
    "filetypes = [coord_fltype, img_fltype]\n",
    "\n",
    "conetype_sizes = [10, 10, 10, 30]\n",
    "\n",
    "\n",
    "bin_width = 10\n",
    "\n",
    "categories = [subject, angle, eccentricity]\n",
    "\n",
    "\n",
    "# set up for \"user_param,\" a dictionary that is passed to the process manager that\n",
    "# stores all the variables determined from the user's inputs\n",
    "user_param_keys = [\n",
    "                   'subject',\n",
    "                   'angle',\n",
    "                   'eccentricity',\n",
    "                   'conetype',\n",
    "                   'coord_unit',\n",
    "                   'bin_width',\n",
    "                   'dist_area_norm',\n",
    "                   'conetype_color',\n",
    "                   'num_mc'\n",
    "                   ]\n",
    "\n",
    "waitlist = [\n",
    "            'mosaic',\n",
    "            'coord_fl_name',\n",
    "            'coord_index',\n",
    "            'img_fl_name',\n",
    "            'img_index',\n",
    "            'save_name',\n",
    "            'processes'\n",
    "            ] # make sure that parameters in this list are set to user_parm downstream\n",
    "\n",
    "user_param = dict.fromkeys(user_param_keys)\n",
    "# most of these parameters have been set directly by the user, \n",
    "# a few need to be interpreted from the filesystem, however. \n",
    "for p in user_param:\n",
    "    user_param[p] = locals()[p]"
   ]
  },
  {
   "cell_type": "markdown",
   "id": "3defce98",
   "metadata": {},
   "source": [
    "Function scratch space"
   ]
  },
  {
   "cell_type": "code",
   "execution_count": null,
   "id": "44b32362",
   "metadata": {},
   "outputs": [],
   "source": []
  },
  {
   "cell_type": "code",
   "execution_count": 24,
   "id": "7b4a0946",
   "metadata": {},
   "outputs": [
    {
     "data": {
      "text/plain": [
       "<module 'mosaic_topog.show' from 'c:\\\\users\\\\schle\\\\documents\\\\github\\\\incubator-2022-geometry-of-color\\\\mosaic_topog\\\\mosaic_topog\\\\show.py'>"
      ]
     },
     "execution_count": 24,
     "metadata": {},
     "output_type": "execute_result"
    }
   ],
   "source": [
    "importlib.reload(flsyst)\n",
    "importlib.reload(smp)\n",
    "importlib.reload(calc)\n",
    "importlib.reload(show)"
   ]
  },
  {
   "cell_type": "markdown",
   "id": "3091d029",
   "metadata": {},
   "source": [
    "Get all possible coordinate filenames based on the user inputs and find the ones that exist in the folder. "
   ]
  },
  {
   "cell_type": "code",
   "execution_count": 25,
   "id": "a5c45dd7",
   "metadata": {},
   "outputs": [
    {
     "name": "stdout",
     "output_type": "stream",
     "text": [
      "found 120 files\n",
      "\n",
      "found 24 files\n",
      "\n"
     ]
    }
   ],
   "source": [
    "# fl_name is the output variable we care about for now -\n",
    "#     it's a list of all files found for combinations of the input parameters.\n",
    "\n",
    "# mosaic is a list of all the classified mosaics the located data come from\n",
    "# for instance a single mosaic may be mapped to mosaic coordinate files for \n",
    "# L, M, S, 'all', and 'unclassed' cone sub-mosaics \n",
    "\n",
    "# index is a dictionary for indexing through the list flnames according to:\n",
    "#     inputs to single_mosaic_processes - subject, angle, eccentricity, conetype_ids \n",
    "#     determined by single_mosaic_processes - \n",
    "\n",
    "mosaic, coord_fl_name, coord_index = flsyst.getFilesByDataGroup(data_path, user_param, '.csv')\n",
    "img_mosaic, img_fl_name, img_index = flsyst.getFilesByDataGroup(data_path, user_param, '.png')\n",
    "\n",
    "# Make list of expected save-file names for this data\n",
    "save_name = flsyst.saveNameFromLoadPath(coord_fl_name,save_path)\n"
   ]
  },
  {
   "cell_type": "markdown",
   "id": "61b9d589",
   "metadata": {},
   "source": [
    "Load in the configuration file that determines the Single_mosaic_processes save file structure"
   ]
  },
  {
   "cell_type": "code",
   "execution_count": 26,
   "id": "fd29b83f",
   "metadata": {},
   "outputs": [
    {
     "name": "stdout",
     "output_type": "stream",
     "text": [
      "mandatory_proc\n",
      "['meta', 'input_data']\n",
      "\n",
      "order_optional_proc\n",
      "['intracone_dist', 'monteCarlo_uniform', 'monteCarlo_uniform_intracone_dist', 'monteCarlo_coneLocked', 'monteCarlo_coneLocked_intracone_dist', 'norm_by_MCU_mean']\n",
      "\n",
      "meta\n",
      "{'process': 'meta_process', 'variables': ['mosaic', 'subject', 'angle', 'eccentricity', 'conetype']}\n",
      "\n",
      "input_data\n",
      "{'process': 'input_data_process', 'variables': ['cone_img', 'cone_coord', 'coord_unit', 'conetype_color', 'bin_width', 'dist_area_norm', 'num_mc']}\n",
      "\n",
      "intracone_dist\n",
      "{'process': 'intracone_dist_process', 'variables': ['dist', 'mean_nearest', 'std_nearest', 'hist', 'bin_edge', 'annulus_area']}\n",
      "\n",
      "monteCarlo_uniform\n",
      "{'process': 'monteCarlo_uniform_process', 'variables': ['coord']}\n",
      "\n",
      "monteCarlo_uniform_intracone_dist\n",
      "{'process': 'monteCarlo_uniform_intracone_dist_process', 'dependency': None, 'variables': ['dist', 'mean_nearest', 'std_nearest', 'hist', 'bin_edge', 'annulus_area', 'mean_hist', 'std_hist']}\n",
      "\n",
      "monteCarlo_coneLocked\n",
      "{'process': 'monteCarlo_coneLocked_process', 'variables': ['all_coord', 'coord']}\n",
      "\n",
      "monteCarlo_coneLocked_intracone_dist\n",
      "{'process': 'monteCarlo_coneLocked_intracone_dist_process', 'variables': ['dist', 'mean_nearest', 'std_nearest', 'hist', 'bin_edge', 'annulus_area', 'mean_hist', 'std_hist']}\n",
      "\n",
      "norm_by_MCU_mean\n",
      "{'process': 'norm_by_MCU_mean_process', 'variables': ['hist', 'MCU_mean', 'MCU_std', 'MCL_mean', 'MCL_std', 'bin_edge', 'all_cone_mean_nearest', 'all_cone_std_nearest']}\n",
      "\n"
     ]
    }
   ],
   "source": [
    "sav_cfg = flsyst.readYaml(single_mosaic_savefl_config)\n",
    "for key in sav_cfg.keys():\n",
    "    print(key)\n",
    "    print(sav_cfg[key])\n",
    "    print('')"
   ]
  },
  {
   "cell_type": "markdown",
   "id": "24de2669",
   "metadata": {},
   "source": [
    "If we want to run all the data, start processes.  Otherwise, read from the save folder to determine which data needs to be run through which processes -- then start processes. "
   ]
  },
  {
   "cell_type": "code",
   "execution_count": 27,
   "id": "1da05c40",
   "metadata": {},
   "outputs": [],
   "source": [
    "if data_to_run == 'all':\n",
    "    processes = {}\n",
    "    for proc in proc_to_run:\n",
    "        processes[proc] = np.arange(0,len(coord_fl_name)).tolist()\n",
    "elif data_to_run == 'absent_only':\n",
    "    processes = flsyst.getProcessesToRun(save_name, save_path, proc_to_run, sav_cfg)\n"
   ]
  },
  {
   "cell_type": "code",
   "execution_count": 28,
   "id": "2c9042fc",
   "metadata": {},
   "outputs": [
    {
     "name": "stdout",
     "output_type": "stream",
     "text": [
      "{'norm_by_MCU_mean': [0, 1, 2, 3, 4, 5, 6, 7, 8, 9, 10, 11, 12, 13, 14, 15, 16, 17, 18, 19, 20, 21, 22, 23, 24, 25, 26, 27, 28, 29, 30, 31, 32, 33, 34, 35, 36, 37, 38, 39, 40, 41, 42, 43, 44, 45, 46, 47, 48, 49, 50, 51, 52, 53, 54, 55, 56, 57, 58, 59, 60, 61, 62, 63, 64, 65, 66, 67, 68, 69, 70, 71, 72, 73, 74, 75, 76, 77, 78, 79, 80, 81, 82, 83, 84, 85, 86, 87, 88, 89, 90, 91, 92, 93, 94, 95, 96, 97, 98, 99, 100, 101, 102, 103, 104, 105, 106, 107, 108, 109, 110, 111, 112, 113, 114, 115, 116, 117, 118, 119]}\n"
     ]
    }
   ],
   "source": [
    "print(processes)\n",
    "\n",
    "for p in waitlist:\n",
    "    user_param[p] = vars()[p]\n",
    "    \n",
    "# for p in user_param:\n",
    "#     print(p)\n",
    "#     print(user_param[p])\n",
    "#     print('')"
   ]
  },
  {
   "cell_type": "code",
   "execution_count": null,
   "id": "8e4b30ed",
   "metadata": {
    "scrolled": true
   },
   "outputs": [],
   "source": [
    "smp.runSingleMosaicProcess(user_param, sav_cfg)"
   ]
  },
  {
   "cell_type": "code",
   "execution_count": null,
   "id": "b57ff76c",
   "metadata": {
    "scrolled": true
   },
   "outputs": [],
   "source": []
  },
  {
   "cell_type": "code",
   "execution_count": null,
   "id": "21dea5c3",
   "metadata": {},
   "outputs": [],
   "source": []
  },
  {
   "cell_type": "code",
   "execution_count": null,
   "id": "e9da6f54",
   "metadata": {},
   "outputs": [],
   "source": []
  },
  {
   "cell_type": "code",
   "execution_count": null,
   "id": "71a074f7",
   "metadata": {},
   "outputs": [],
   "source": []
  },
  {
   "cell_type": "code",
   "execution_count": null,
   "id": "5d191638",
   "metadata": {},
   "outputs": [],
   "source": []
  },
  {
   "cell_type": "code",
   "execution_count": null,
   "id": "1ceff725",
   "metadata": {},
   "outputs": [],
   "source": []
  },
  {
   "cell_type": "code",
   "execution_count": null,
   "id": "b7713f14",
   "metadata": {},
   "outputs": [],
   "source": []
  },
  {
   "cell_type": "code",
   "execution_count": null,
   "id": "ce466a50",
   "metadata": {},
   "outputs": [],
   "source": []
  },
  {
   "cell_type": "code",
   "execution_count": null,
   "id": "1e054f4e",
   "metadata": {},
   "outputs": [],
   "source": []
  },
  {
   "cell_type": "code",
   "execution_count": null,
   "id": "c40b3641",
   "metadata": {},
   "outputs": [],
   "source": []
  },
  {
   "cell_type": "code",
   "execution_count": null,
   "id": "662eac69",
   "metadata": {},
   "outputs": [],
   "source": []
  }
 ],
 "metadata": {
  "kernelspec": {
   "display_name": "Python 3 (ipykernel)",
   "language": "python",
   "name": "python3"
  },
  "language_info": {
   "codemirror_mode": {
    "name": "ipython",
    "version": 3
   },
   "file_extension": ".py",
   "mimetype": "text/x-python",
   "name": "python",
   "nbconvert_exporter": "python",
   "pygments_lexer": "ipython3",
   "version": "3.9.7"
  }
 },
 "nbformat": 4,
 "nbformat_minor": 5
}
