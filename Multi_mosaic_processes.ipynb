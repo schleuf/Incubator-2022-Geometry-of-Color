{
 "cells": [
  {
   "cell_type": "code",
   "execution_count": 1,
   "id": "6294d385",
   "metadata": {},
   "outputs": [],
   "source": [
    "single_process_path = 'C:\\\\Users\\\\schle\\Documents\\\\Incubator Data\\\\'\n",
    "\n",
    "# settings that define the files that will be searched for in the load folder above.\n",
    "# processes indicated below will be run on all such files found. \n",
    "subject = ['AO001R'] # ['AO001R', 'AO008R']\n",
    "subject_line = ['--',':']\n",
    "\n",
    "angle = ['temporal', 'nasal', 'superior', 'inferior']\n",
    "angle_marker = ['o','x','^','s']\n",
    "\n",
    "eccentricity = ['1.5', '3.5', '4', '4.5' '10']\n",
    "\n",
    "conetype = ['all','L','M','S','unclassed'] #  ['all','L','M','S','unclassed']\n",
    "conetype_color = ['y','r','g','b','w']\n",
    "\n",
    "coord_unit = 'pixels' # units of the coordinate data loaded in - any string you want\n",
    "\n",
    "#visualize_intracone_dist_hist = [['L'],['M'],['S']]\n",
    "\n",
    "visualize_intracone_dist_hist = [['L','1.5'],['M','1.5'],['S','1.5'],['all','1.5']]\n",
    "\n",
    "\n",
    "import numpy as np\n",
    "import matplotlib.pyplot as plt\n",
    "from scipy import spatial\n",
    "import os\n",
    "import h5py\n",
    "import importlib\n",
    "import glob\n",
    "import yaml\n",
    "import sys\n",
    "\n",
    "import mosaic_topog.utilities as util\n",
    "import mosaic_topog.flsyst as flsyst\n",
    "import mosaic_topog.show as show\n",
    "import mosaic_topog.calc as calc\n",
    "import mosaic_topog.singleMosaicProcesses as smp\n",
    "\n",
    "category = ['subject', 'angle', 'eccentricity', 'conetype', 'conetype_color']\n",
    "\n",
    "category_data = {}\n",
    "for cat in category:\n",
    "    category_data[cat] = locals()[cat]\n",
    "\n",
    "user_param_keys = [\n",
    "              'subject',\n",
    "              'subject_line',\n",
    "              'angle',\n",
    "              'angle_marker',\n",
    "              'eccentricity',\n",
    "              'conetype',\n",
    "              'conetype_color',\n",
    "              'coord_unit',\n",
    "              'category_data'\n",
    "             ]\n",
    "\n",
    "wait_list = [\n",
    "            'mosaic',\n",
    "            'fl_name',\n",
    "            'index',\n",
    "            ]\n",
    "\n",
    "user_param = dict.fromkeys(user_param_keys)\n",
    "\n",
    "# most of these parameters have been set directly by the user, \n",
    "# a few need to be interpreted from the filesystem, however. \n",
    "for p in user_param:\n",
    "    user_param[p] = locals()[p]"
   ]
  },
  {
   "cell_type": "code",
   "execution_count": 2,
   "id": "db11c8b9",
   "metadata": {},
   "outputs": [
    {
     "data": {
      "text/plain": [
       "<module 'mosaic_topog.show' from 'c:\\\\users\\\\schle\\\\documents\\\\github\\\\incubator-2022-geometry-of-color\\\\mosaic_topog\\\\mosaic_topog\\\\show.py'>"
      ]
     },
     "execution_count": 2,
     "metadata": {},
     "output_type": "execute_result"
    }
   ],
   "source": [
    "importlib.reload(flsyst)\n",
    "importlib.reload(smp)\n",
    "importlib.reload(calc)\n",
    "importlib.reload(show)"
   ]
  },
  {
   "cell_type": "code",
   "execution_count": null,
   "id": "6f3cfa20",
   "metadata": {},
   "outputs": [],
   "source": []
  },
  {
   "cell_type": "code",
   "execution_count": 3,
   "id": "a7b7f06b",
   "metadata": {},
   "outputs": [
    {
     "name": "stdout",
     "output_type": "stream",
     "text": [
      "found 35 files\n",
      "\n"
     ]
    }
   ],
   "source": [
    "# view intracone dist hists by subject\n",
    "mosaic, fl_name, index = flsyst.getFilesByDataGroup(single_process_path, user_param, '.hdf5')\n"
   ]
  },
  {
   "cell_type": "code",
   "execution_count": 4,
   "id": "f2dc90da",
   "metadata": {},
   "outputs": [],
   "source": [
    "for p in wait_list:\n",
    "    user_param[p] = locals()[p]"
   ]
  },
  {
   "cell_type": "code",
   "execution_count": 5,
   "id": "d8e16478",
   "metadata": {},
   "outputs": [],
   "source": [
    "def getFromCat(var, category):\n",
    "    for cat in category.keys():\n",
    "        if var in category[cat]:\n",
    "            return cat, category[cat].index(var)\n",
    "    if not var:\n",
    "        return []"
   ]
  },
  {
   "cell_type": "code",
   "execution_count": 6,
   "id": "9701ca07",
   "metadata": {},
   "outputs": [],
   "source": [
    "def plotSettingsFromIndex(fl_inds_to_get,index,plot_settings):\n",
    "    settings = {}\n",
    "    settings['line'] = []\n",
    "    settings['marker'] = []\n",
    "    settings['color'] = []\n",
    "    settings['markersize'] = []\n",
    "\n",
    "    conetype_color = plot_settings['conetype_color']\n",
    "    angle_marker = plot_settings['angle_marker']\n",
    "    subject_line = plot_settings['subject_line']\n",
    "    ecc_size = plot_settings['ecc_size']\n",
    "\n",
    "    for fl in fl_inds_to_get:\n",
    "        settings['color'].append(conetype_color[index['conetype'][fl]])\n",
    "        settings['marker'].append(angle_marker[index['angle'][fl]])\n",
    "        settings['line'].append(subject_line[index['subject'][fl]])\n",
    "        settings['markersize'].append(ecc_size[index['eccentricity'][fl]])\n",
    "\n",
    "    return settings"
   ]
  },
  {
   "cell_type": "code",
   "execution_count": 7,
   "id": "08812c92",
   "metadata": {},
   "outputs": [],
   "source": [
    "def visualizeIntraconeDistHist(variables, user_param):\n",
    "    # unpack critical variables \n",
    "    category = user_param['category_data']\n",
    "    coord_unit = user_param['coord_unit']\n",
    "    fl_name = user_param['fl_name']\n",
    "    index = user_param['index']\n",
    "    \n",
    "    plot_settings = {}\n",
    "    plot_settings['subject_line'] = user_param['subject_line']\n",
    "    plot_settings['angle_marker'] = user_param['angle_marker']\n",
    "    plot_settings['conetype_color'] = user_param['conetype_color']\n",
    "    plot_settings['ecc_size'] = user_param['eccentricity']\n",
    "\n",
    "    for var_set in variables:\n",
    "        #find the files to read the data from\n",
    "        fl_inds_to_get = {}\n",
    "        id_str = 'intracone dist hists: '\n",
    "        for ind, var in enumerate(var_set):\n",
    "            try:\n",
    "                cat, ind = getFromCat(var, category) \n",
    "            except:\n",
    "                print('requested var is not specified by any category')\n",
    "                \n",
    "            if ind == 0:\n",
    "                id_str = id_str + var\n",
    "            else: \n",
    "                id_str = id_str + \" + \" + var\n",
    "                \n",
    "            var_inds = np.nonzero(index[cat]==ind)[0]\n",
    "            \n",
    "            if not cat in fl_inds_to_get.keys():\n",
    "                fl_inds_to_get[cat] = var_inds\n",
    "            else: \n",
    "                fl_inds_to_get[cat] = np.append(fl_inds_to_get[cat], var_inds)\n",
    "        \n",
    "        temp = []\n",
    "        for key in fl_inds_to_get.keys():\n",
    "            if len(temp) == 0:\n",
    "                temp = fl_inds_to_get[key]\n",
    "            else:\n",
    "                temp = np.intersect1d(temp,fl_inds_to_get[key])\n",
    "\n",
    "        fl_inds_to_get = temp\n",
    "        \n",
    "        settings = plotSettingsFromIndex(fl_inds_to_get, index, plot_settings)\n",
    "            \n",
    "        hists = []\n",
    "        bin_edges = []\n",
    "        for fl in fl_inds_to_get:\n",
    "            with h5py.File(fl_name[fl], 'r') as file:\n",
    "                bin_edges.append(file['intracone_dist']['bin_edge'][()])\n",
    "                hists.append(file['intracone_dist']['hist'][()])\n",
    "            \n",
    "        fig, ax = plt.subplots(1, 1, figsize = [10,10])\n",
    "        \n",
    "        for ind, hist in enumerate(hists):\n",
    "            if hist.shape[0]>2:\n",
    "                x = bin_edges[ind][1:]/2\n",
    "                show.line(bin_edges[ind][1:], hists[ind], id_str, ax=ax, \n",
    "                          plot_col=settings['color'][ind], \n",
    "                          linestyle=settings['line'][ind], \n",
    "                          marker=settings['marker'][ind],\n",
    "                          markersize= 4) #settings['markersize'][ind])\n",
    "            else:\n",
    "                print(\"warning: histogram for \" + fl_name[fl] + \" has 2 or fewer bins\")"
   ]
  },
  {
   "cell_type": "code",
   "execution_count": null,
   "id": "ef3d11a6",
   "metadata": {},
   "outputs": [],
   "source": [
    "visualizeIntraconeDistHist(visualize_intracone_dist_hist, user_param)"
   ]
  },
  {
   "cell_type": "code",
   "execution_count": null,
   "id": "b290a9cb",
   "metadata": {},
   "outputs": [],
   "source": []
  },
  {
   "cell_type": "code",
   "execution_count": null,
   "id": "112ee9f9",
   "metadata": {},
   "outputs": [],
   "source": [
    "'L' in conetype"
   ]
  },
  {
   "cell_type": "code",
   "execution_count": null,
   "id": "c596f6dc",
   "metadata": {},
   "outputs": [],
   "source": []
  }
 ],
 "metadata": {
  "kernelspec": {
   "display_name": "Python 3 (ipykernel)",
   "language": "python",
   "name": "python3"
  },
  "language_info": {
   "codemirror_mode": {
    "name": "ipython",
    "version": 3
   },
   "file_extension": ".py",
   "mimetype": "text/x-python",
   "name": "python",
   "nbconvert_exporter": "python",
   "pygments_lexer": "ipython3",
   "version": "3.9.7"
  }
 },
 "nbformat": 4,
 "nbformat_minor": 5
}
