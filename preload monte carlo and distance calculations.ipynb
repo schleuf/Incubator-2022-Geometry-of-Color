{
 "cells": [
  {
   "cell_type": "markdown",
   "id": "1a025eed",
   "metadata": {},
   "source": [
    "import packages & selct dataset"
   ]
  },
  {
   "cell_type": "code",
   "execution_count": 1,
   "id": "f90923e3",
   "metadata": {},
   "outputs": [],
   "source": [
    "import numpy as np\n",
    "import matplotlib.pyplot as plt\n",
    "from scipy import spatial\n",
    "import os\n",
    "import h5py\n",
    "import importlib\n",
    "import glob\n",
    "\n",
    "import mosaic_topog.utilities as util\n",
    "import mosaic_topog.flsyst as flsyst\n",
    "import mosaic_topog.show as show\n",
    "import mosaic_topog.calc as calc\n",
    "\n",
    "data_path = 'C:\\\\Users\\\\schle\\Documents\\\\GitHub\\\\Incubator-2022-Geometry-of-Color\\\\CSV data all OCT locs Jan 2022\\\\'\n",
    "save_path = 'C:\\\\Users\\\\schle\\Documents\\\\Incubator Data\\\\'\n",
    "\n",
    "subject = np.asarray(['AO001R', 'AO008R'])\n",
    "angle = np.asarray(['temporal', 'nasal', 'superior', 'inferior'])\n",
    "eccentricity = np.asarray(['1.5', '4', '10'])\n",
    "\n",
    "coord_fltype = '.csv'\n",
    "img_fltype = '.png'\n",
    "\n",
    "dist_unit = 'pixels'\n",
    "\n",
    "filetypes = [coord_fltype, img_fltype]\n",
    "\n",
    "conetype_ids = ['all','L','M','S','unclassed']\n",
    "\n",
    "conetype_colors = ['y','r','g','b','k']\n",
    "conetype_sizes = [10, 10, 10, 30]\n",
    "\n",
    "bin_width = 5\n",
    "\n",
    "num_mc = 100 # number of monte carlo mosaics to generate\n",
    "\n",
    "categories = [subject, angle, eccentricity]"
   ]
  },
  {
   "cell_type": "markdown",
   "id": "9341fa1e",
   "metadata": {},
   "source": [
    "load in coordinate data and images"
   ]
  },
  {
   "cell_type": "code",
   "execution_count": null,
   "id": "88f37ca1",
   "metadata": {
    "scrolled": true
   },
   "outputs": [],
   "source": [
    "[coord_data, coord_mosaics, coord_index] = flsyst.getConeData(data_path,subject,angle,eccentricity,conetype_ids,filetypes[0])\n",
    "[img_data, img_mosaics, img_index] = flsyst.getConeData(data_path,subject,angle,eccentricity,conetype_ids,filetypes[1])\n"
   ]
  },
  {
   "cell_type": "markdown",
   "id": "051fc1c0",
   "metadata": {},
   "source": [
    "plot cones on the image "
   ]
  },
  {
   "cell_type": "code",
   "execution_count": null,
   "id": "050f3f8c",
   "metadata": {
    "scrolled": true
   },
   "outputs": [],
   "source": [
    "# for each mosaic we have an image of...\n",
    "axes = []\n",
    "for ind,mos in enumerate(img_mosaics):\n",
    "    # get the image\n",
    "    img = img_data[ind]\n",
    "    \n",
    "    # find the same mosaic in our coordinate data \n",
    "    # (may or may not be represented by the same number) \n",
    "    coord_mos_ind = coord_mosaics.index(mos)\n",
    "    \n",
    "    # pull all coone coordinate filse associated with this mosaic\n",
    "    coord_mos = flsyst.getDataByCatVal(coord_data, coord_index['mosaics'], coord_mos_ind)\n",
    "    \n",
    "    # make a dictionary of all coordinate files and their associated conetype_ids\n",
    "    coords = {}\n",
    "    for ind,id in enumerate(conetype_ids):\n",
    "        coords[id] = coord_mos[ind]\n",
    "    \n",
    "    axes.append(show.plotOnROI(img, coords, conetype_ids, mos, conetype_colors, title=mos, figsize=10))\n",
    "    "
   ]
  },
  {
   "cell_type": "markdown",
   "id": "f5667905",
   "metadata": {},
   "source": [
    "reimport packages in dev, reload in the mosaic data"
   ]
  },
  {
   "cell_type": "code",
   "execution_count": 16,
   "id": "57c15623",
   "metadata": {},
   "outputs": [
    {
     "name": "stdout",
     "output_type": "stream",
     "text": [
      "found 110 files\n",
      "\n"
     ]
    }
   ],
   "source": [
    "importlib.reload(flsyst)\n",
    "importlib.reload(calc)\n",
    "\n",
    "[data, mosaics, index, flnames] = flsyst.getConeData(data_path,subject,angle,eccentricity,conetype_ids,filetypes[0])"
   ]
  },
  {
   "cell_type": "markdown",
   "id": "5f5ea0a8",
   "metadata": {},
   "source": [
    "run checks for files that need to have calculations run on them"
   ]
  },
  {
   "cell_type": "code",
   "execution_count": 17,
   "id": "b24a42d3",
   "metadata": {},
   "outputs": [],
   "source": [
    "dist_group = 'intracone_dists'\n",
    "dist_keys = ['cone_dists_square','cone_dists_vect','avg_nearest_cone','std_nearest_cone','dist_unit']\n",
    "\n",
    "collect_all = [] # indices of data files that need all operations run on them\n",
    "collect_dists = [] # indices of data files that need intercone distance calculations run \n",
    "\n",
    "# Make list of expected save-file names for this data\n",
    "savenames = []\n",
    "for ind,fl in enumerate(data):\n",
    "    savenames.append(save_path + flnames[ind] + '.hdf5')\n",
    "    \n",
    "# look for files associated with each data file in the save folder\n",
    "# If no data file is found, add it to the list to collect all data for\n",
    "folder_hdf5s = glob.glob(save_path + '*.hdf5') # get all .hdf5 files in the save path\n",
    "collect_all = util.indsNotInList(savenames,folder_hdf5s)\n",
    "\n",
    "# If data file is found, look for the associated keys. If they are not found, add to the list\n",
    "savenames = np.array(savenames)\n",
    "for ind,fl in enumerate(data):\n",
    "    if ind not in collect_all:\n",
    "         temp = h5py.File(savenames[ind], 'r')\n",
    "         #check intercone distance related keys\n",
    "         for k in dist_keys:\n",
    "            if k not in temp.keys():\n",
    "                collect_dists.append(ind)\n",
    "collect_dists = np.array(collect_dists)"
   ]
  },
  {
   "cell_type": "markdown",
   "id": "66b6fbdb",
   "metadata": {},
   "source": [
    "calculate the distances between all cones in a mosaic and save them"
   ]
  },
  {
   "cell_type": "code",
   "execution_count": 19,
   "id": "75cdc09f",
   "metadata": {},
   "outputs": [
    {
     "ename": "FileNotFoundError",
     "evalue": "[Errno 2] Unable to create file (unable to open file: name = 'C:\\Users\\schle\\Documents\\Incubator Data\\AO001R_temporal_1.5_all.csv.hdf5', errno = 2, error message = 'No such file or directory', flags = 13, o_flags = 302)",
     "output_type": "error",
     "traceback": [
      "\u001b[1;31m---------------------------------------------------------------------------\u001b[0m",
      "\u001b[1;31mFileNotFoundError\u001b[0m                         Traceback (most recent call last)",
      "\u001b[1;32m~\\AppData\\Local\\Temp/ipykernel_21912/3385964120.py\u001b[0m in \u001b[0;36m<module>\u001b[1;34m\u001b[0m\n\u001b[0;32m     20\u001b[0m     \u001b[1;31m# start a save file\u001b[0m\u001b[1;33m\u001b[0m\u001b[1;33m\u001b[0m\u001b[0m\n\u001b[0;32m     21\u001b[0m     \u001b[0msavename\u001b[0m \u001b[1;33m=\u001b[0m \u001b[0msavenames\u001b[0m\u001b[1;33m[\u001b[0m\u001b[0mind\u001b[0m\u001b[1;33m]\u001b[0m\u001b[1;33m\u001b[0m\u001b[1;33m\u001b[0m\u001b[0m\n\u001b[1;32m---> 22\u001b[1;33m     \u001b[0msav\u001b[0m \u001b[1;33m=\u001b[0m \u001b[0mh5py\u001b[0m\u001b[1;33m.\u001b[0m\u001b[0mFile\u001b[0m\u001b[1;33m(\u001b[0m\u001b[0msavename\u001b[0m\u001b[1;33m,\u001b[0m \u001b[1;34m'w'\u001b[0m\u001b[1;33m)\u001b[0m\u001b[1;33m\u001b[0m\u001b[1;33m\u001b[0m\u001b[0m\n\u001b[0m\u001b[0;32m     23\u001b[0m     \u001b[0mgroup\u001b[0m \u001b[1;33m=\u001b[0m \u001b[0msav\u001b[0m\u001b[1;33m.\u001b[0m\u001b[0mcreate_group\u001b[0m\u001b[1;33m(\u001b[0m\u001b[1;34m'intracone_dists'\u001b[0m\u001b[1;33m)\u001b[0m\u001b[1;33m\u001b[0m\u001b[1;33m\u001b[0m\u001b[0m\n\u001b[0;32m     24\u001b[0m     \u001b[0mgroup\u001b[0m\u001b[1;33m[\u001b[0m\u001b[1;34m'cone_dists_square'\u001b[0m\u001b[1;33m]\u001b[0m \u001b[1;33m=\u001b[0m \u001b[0msquare\u001b[0m\u001b[1;33m.\u001b[0m\u001b[0mastype\u001b[0m\u001b[1;33m(\u001b[0m\u001b[0mnp\u001b[0m\u001b[1;33m.\u001b[0m\u001b[0mfloat64\u001b[0m\u001b[1;33m)\u001b[0m\u001b[1;33m\u001b[0m\u001b[1;33m\u001b[0m\u001b[0m\n",
      "\u001b[1;32m~\\anaconda3\\envs\\incubator\\lib\\site-packages\\h5py\\_hl\\files.py\u001b[0m in \u001b[0;36m__init__\u001b[1;34m(self, name, mode, driver, libver, userblock_size, swmr, rdcc_nslots, rdcc_nbytes, rdcc_w0, track_order, fs_strategy, fs_persist, fs_threshold, fs_page_size, page_buf_size, min_meta_keep, min_raw_keep, locking, **kwds)\u001b[0m\n\u001b[0;32m    505\u001b[0m                                  \u001b[0mfs_persist\u001b[0m\u001b[1;33m=\u001b[0m\u001b[0mfs_persist\u001b[0m\u001b[1;33m,\u001b[0m \u001b[0mfs_threshold\u001b[0m\u001b[1;33m=\u001b[0m\u001b[0mfs_threshold\u001b[0m\u001b[1;33m,\u001b[0m\u001b[1;33m\u001b[0m\u001b[1;33m\u001b[0m\u001b[0m\n\u001b[0;32m    506\u001b[0m                                  fs_page_size=fs_page_size)\n\u001b[1;32m--> 507\u001b[1;33m                 \u001b[0mfid\u001b[0m \u001b[1;33m=\u001b[0m \u001b[0mmake_fid\u001b[0m\u001b[1;33m(\u001b[0m\u001b[0mname\u001b[0m\u001b[1;33m,\u001b[0m \u001b[0mmode\u001b[0m\u001b[1;33m,\u001b[0m \u001b[0muserblock_size\u001b[0m\u001b[1;33m,\u001b[0m \u001b[0mfapl\u001b[0m\u001b[1;33m,\u001b[0m \u001b[0mfcpl\u001b[0m\u001b[1;33m,\u001b[0m \u001b[0mswmr\u001b[0m\u001b[1;33m=\u001b[0m\u001b[0mswmr\u001b[0m\u001b[1;33m)\u001b[0m\u001b[1;33m\u001b[0m\u001b[1;33m\u001b[0m\u001b[0m\n\u001b[0m\u001b[0;32m    508\u001b[0m \u001b[1;33m\u001b[0m\u001b[0m\n\u001b[0;32m    509\u001b[0m             \u001b[1;32mif\u001b[0m \u001b[0misinstance\u001b[0m\u001b[1;33m(\u001b[0m\u001b[0mlibver\u001b[0m\u001b[1;33m,\u001b[0m \u001b[0mtuple\u001b[0m\u001b[1;33m)\u001b[0m\u001b[1;33m:\u001b[0m\u001b[1;33m\u001b[0m\u001b[1;33m\u001b[0m\u001b[0m\n",
      "\u001b[1;32m~\\anaconda3\\envs\\incubator\\lib\\site-packages\\h5py\\_hl\\files.py\u001b[0m in \u001b[0;36mmake_fid\u001b[1;34m(name, mode, userblock_size, fapl, fcpl, swmr)\u001b[0m\n\u001b[0;32m    224\u001b[0m         \u001b[0mfid\u001b[0m \u001b[1;33m=\u001b[0m \u001b[0mh5f\u001b[0m\u001b[1;33m.\u001b[0m\u001b[0mcreate\u001b[0m\u001b[1;33m(\u001b[0m\u001b[0mname\u001b[0m\u001b[1;33m,\u001b[0m \u001b[0mh5f\u001b[0m\u001b[1;33m.\u001b[0m\u001b[0mACC_EXCL\u001b[0m\u001b[1;33m,\u001b[0m \u001b[0mfapl\u001b[0m\u001b[1;33m=\u001b[0m\u001b[0mfapl\u001b[0m\u001b[1;33m,\u001b[0m \u001b[0mfcpl\u001b[0m\u001b[1;33m=\u001b[0m\u001b[0mfcpl\u001b[0m\u001b[1;33m)\u001b[0m\u001b[1;33m\u001b[0m\u001b[1;33m\u001b[0m\u001b[0m\n\u001b[0;32m    225\u001b[0m     \u001b[1;32melif\u001b[0m \u001b[0mmode\u001b[0m \u001b[1;33m==\u001b[0m \u001b[1;34m'w'\u001b[0m\u001b[1;33m:\u001b[0m\u001b[1;33m\u001b[0m\u001b[1;33m\u001b[0m\u001b[0m\n\u001b[1;32m--> 226\u001b[1;33m         \u001b[0mfid\u001b[0m \u001b[1;33m=\u001b[0m \u001b[0mh5f\u001b[0m\u001b[1;33m.\u001b[0m\u001b[0mcreate\u001b[0m\u001b[1;33m(\u001b[0m\u001b[0mname\u001b[0m\u001b[1;33m,\u001b[0m \u001b[0mh5f\u001b[0m\u001b[1;33m.\u001b[0m\u001b[0mACC_TRUNC\u001b[0m\u001b[1;33m,\u001b[0m \u001b[0mfapl\u001b[0m\u001b[1;33m=\u001b[0m\u001b[0mfapl\u001b[0m\u001b[1;33m,\u001b[0m \u001b[0mfcpl\u001b[0m\u001b[1;33m=\u001b[0m\u001b[0mfcpl\u001b[0m\u001b[1;33m)\u001b[0m\u001b[1;33m\u001b[0m\u001b[1;33m\u001b[0m\u001b[0m\n\u001b[0m\u001b[0;32m    227\u001b[0m     \u001b[1;32melif\u001b[0m \u001b[0mmode\u001b[0m \u001b[1;33m==\u001b[0m \u001b[1;34m'a'\u001b[0m\u001b[1;33m:\u001b[0m\u001b[1;33m\u001b[0m\u001b[1;33m\u001b[0m\u001b[0m\n\u001b[0;32m    228\u001b[0m         \u001b[1;31m# Open in append mode (read/write).\u001b[0m\u001b[1;33m\u001b[0m\u001b[1;33m\u001b[0m\u001b[0m\n",
      "\u001b[1;32mh5py\\_objects.pyx\u001b[0m in \u001b[0;36mh5py._objects.with_phil.wrapper\u001b[1;34m()\u001b[0m\n",
      "\u001b[1;32mh5py\\_objects.pyx\u001b[0m in \u001b[0;36mh5py._objects.with_phil.wrapper\u001b[1;34m()\u001b[0m\n",
      "\u001b[1;32mh5py\\h5f.pyx\u001b[0m in \u001b[0;36mh5py.h5f.create\u001b[1;34m()\u001b[0m\n",
      "\u001b[1;31mFileNotFoundError\u001b[0m: [Errno 2] Unable to create file (unable to open file: name = 'C:\\Users\\schle\\Documents\\Incubator Data\\AO001R_temporal_1.5_all.csv.hdf5', errno = 2, error message = 'No such file or directory', flags = 13, o_flags = 302)"
     ]
    }
   ],
   "source": [
    "to_calc = np.union1d(collect_all, collect_dists).astype(int)\n",
    "\n",
    "for ind in to_calc:\n",
    "    dists = calc.dist_matrices(data[ind])\n",
    "    \n",
    "    # get avg and std of nearest cone distance in the mosaic\n",
    "    nearest_dist = []\n",
    "    \n",
    "    for cone in np.arange(0,dists.shape[0]):\n",
    "        # get row for this cone's distance to every other cone\n",
    "        row = dists[cone,:]\n",
    "        # find the index where the distance = -1 if it exists - this is self and shouldn't be included\n",
    "        row = np.delete(row,np.nonzero(row==-1))\n",
    "        # get the minimum value in the row\n",
    "        nearest_dist.append(row.min())\n",
    "    \n",
    "    mean_nearest = np.mean(np.array(nearest_dist))\n",
    "    std_dist = np.std(np.array(nearest_dist))\n",
    "    \n",
    "    # start a save file\n",
    "    savename = savenames[ind]\n",
    "    sav = h5py.File(savename, 'w')\n",
    "    group = sav.create_group('intracone_dists')\n",
    "    group['cone_dists_square'] = square.astype(np.float64)\n",
    "    group['avg_nearest_cone'] = mean_nearest.astype(np.float64)\n",
    "    group['std_nearest_cone'] = std_nearest.astype(np.float64)\n",
    "    group['dist_unit'] = dist_unit\n"
   ]
  },
  {
   "cell_type": "code",
   "execution_count": 4,
   "id": "73db5b0c",
   "metadata": {},
   "outputs": [
    {
     "data": {
      "text/plain": [
       "array([  0.,   1.,   2.,   3.,   4.,   5.,   6.,   7.,   8.,   9.,  10.,\n",
       "        11.,  12.,  13.,  14.,  15.,  16.,  17.,  18.,  19.,  20.,  21.,\n",
       "        22.,  23.,  24.,  25.,  26.,  27.,  28.,  29.,  30.,  31.,  32.,\n",
       "        33.,  34.,  35.,  36.,  37.,  38.,  39.,  40.,  41.,  42.,  43.,\n",
       "        44.,  45.,  46.,  47.,  48.,  49.,  50.,  51.,  52.,  53.,  54.,\n",
       "        55.,  56.,  57.,  58.,  59.,  60.,  61.,  62.,  63.,  64.,  65.,\n",
       "        66.,  67.,  68.,  69.,  70.,  71.,  72.,  73.,  74.,  75.,  76.,\n",
       "        77.,  78.,  79.,  80.,  81.,  82.,  83.,  84.,  85.,  86.,  87.,\n",
       "        88.,  89.,  90.,  91.,  92.,  93.,  94.,  95.,  96.,  97.,  98.,\n",
       "        99., 100., 101., 102., 103., 104., 105., 106., 107., 108., 109.])"
      ]
     },
     "execution_count": 4,
     "metadata": {},
     "output_type": "execute_result"
    }
   ],
   "source": [
    "collect_dists\n",
    "np.union1d(collect_all,collect_dists)"
   ]
  },
  {
   "cell_type": "code",
   "execution_count": null,
   "id": "0b30b598",
   "metadata": {},
   "outputs": [],
   "source": []
  }
 ],
 "metadata": {
  "kernelspec": {
   "display_name": "Python 3 (ipykernel)",
   "language": "python",
   "name": "python3"
  },
  "language_info": {
   "codemirror_mode": {
    "name": "ipython",
    "version": 3
   },
   "file_extension": ".py",
   "mimetype": "text/x-python",
   "name": "python",
   "nbconvert_exporter": "python",
   "pygments_lexer": "ipython3",
   "version": "3.9.7"
  }
 },
 "nbformat": 4,
 "nbformat_minor": 5
}
