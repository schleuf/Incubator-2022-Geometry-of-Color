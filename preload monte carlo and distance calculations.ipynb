{
 "cells": [
  {
   "cell_type": "markdown",
   "id": "1a025eed",
   "metadata": {},
   "source": [
    "import packages & selct dataset"
   ]
  },
  {
   "cell_type": "code",
   "execution_count": 1,
   "id": "f90923e3",
   "metadata": {},
   "outputs": [],
   "source": [
    "import numpy as np\n",
    "import matplotlib.pyplot as plt\n",
    "from scipy import spatial\n",
    "import os\n",
    "import h5py\n",
    "\n",
    "import mosaic_topog.flsyst as flsyst\n",
    "import mosaic_topog.show as show\n",
    "import mosaic_topog.calc as calc\n",
    "\n",
    "data_path = 'C:\\\\Users\\\\schle\\Documents\\\\GitHub\\\\Incubator-2022-Geometry-of-Color\\\\CSV data all OCT locs Jan 2022\\\\'\n",
    "save_path = 'C:\\\\Users\\\\schle\\Documents\\\\Incubator Data\\\\'\n",
    "\n",
    "subject = np.asarray(['AO001R', 'AO008R'])\n",
    "angle = np.asarray(['temporal', 'nasal', 'superior', 'inferior'])\n",
    "eccentricity = np.asarray(['1.5', '4', '10'])\n",
    "\n",
    "coord_fltype = '.csv'\n",
    "img_fltype = '.png'\n",
    "\n",
    "filetypes = [coord_fltype, img_fltype]\n",
    "\n",
    "conetype_ids = ['all','L','M','S','unclassed']\n",
    "\n",
    "conetype_colors = ['y','r','g','b','k']\n",
    "conetype_sizes = [10, 10, 10, 30]\n",
    "\n",
    "bin_width = 5\n",
    "\n",
    "num_mc = 100 # number of monte carlo mosaics to generate\n",
    "\n",
    "categories = [subject, angle, eccentricity]"
   ]
  },
  {
   "cell_type": "markdown",
   "id": "9341fa1e",
   "metadata": {},
   "source": [
    "load in coordinate data and images"
   ]
  },
  {
   "cell_type": "code",
   "execution_count": 2,
   "id": "88f37ca1",
   "metadata": {
    "scrolled": true
   },
   "outputs": [
    {
     "name": "stdout",
     "output_type": "stream",
     "text": [
      "found 110 files\n",
      "\n"
     ]
    },
    {
     "name": "stderr",
     "output_type": "stream",
     "text": [
      "c:\\users\\schle\\documents\\github\\incubator-2022-geometry-of-color\\mosaic_topog\\mosaic_topog\\flsyst.py:88: UserWarning: loadtxt: Empty input file: \"C:\\Users\\schle\\Documents\\GitHub\\Incubator-2022-Geometry-of-Color\\CSV data all OCT locs Jan 2022\\AO001R_temporal_1.5_unclassed.csv\"\n",
      "  data.append(np.loadtxt(fold_path + fl, delimiter=','))\n"
     ]
    },
    {
     "name": "stdout",
     "output_type": "stream",
     "text": [
      "found 22 files\n",
      "\n"
     ]
    },
    {
     "name": "stderr",
     "output_type": "stream",
     "text": [
      "c:\\users\\schle\\documents\\github\\incubator-2022-geometry-of-color\\mosaic_topog\\mosaic_topog\\flsyst.py:94: VisibleDeprecationWarning: Creating an ndarray from ragged nested sequences (which is a list-or-tuple of lists-or-tuples-or ndarrays with different lengths or shapes) is deprecated. If you meant to do this, you must specify 'dtype=object' when creating the ndarray.\n",
      "  data = np.asarray(data)\n"
     ]
    }
   ],
   "source": [
    "[coord_data, coord_mosaics, coord_index] = flsyst.getConeData(data_path,subject,angle,eccentricity,conetype_ids,filetypes[0])\n",
    "[img_data, img_mosaics, img_index] = flsyst.getConeData(data_path,subject,angle,eccentricity,conetype_ids,filetypes[1])\n"
   ]
  },
  {
   "cell_type": "markdown",
   "id": "051fc1c0",
   "metadata": {},
   "source": [
    "plot cones on the image "
   ]
  },
  {
   "cell_type": "code",
   "execution_count": null,
   "id": "050f3f8c",
   "metadata": {
    "scrolled": true
   },
   "outputs": [],
   "source": [
    "# for each mosaic we have an image of...\n",
    "axes = []\n",
    "for ind,mos in enumerate(img_mosaics):\n",
    "    # get the image\n",
    "    img = img_data[ind]\n",
    "    \n",
    "    # find the same mosaic in our coordinate data \n",
    "    # (may or may not be represented by the same number) \n",
    "    coord_mos_ind = coord_mosaics.index(mos)\n",
    "    \n",
    "    # pull all coone coordinate filse associated with this mosaic\n",
    "    coord_mos = flsyst.getDataByCatVal(coord_data, coord_index['mosaics'], coord_mos_ind)\n",
    "    \n",
    "    # make a dictionary of all coordinate files and their associated conetype_ids\n",
    "    coords = {}\n",
    "    for ind,id in enumerate(conetype_ids):\n",
    "        coords[id] = coord_mos[ind]\n",
    "    \n",
    "    axes.append(show.plotOnROI(img, coords, conetype_ids, mos, conetype_colors, title=mos, figsize=10))\n",
    "    "
   ]
  },
  {
   "cell_type": "markdown",
   "id": "5968f15a",
   "metadata": {},
   "source": [
    "make file structure to save calculated data"
   ]
  },
  {
   "cell_type": "code",
   "execution_count": null,
   "id": "d4aeeb9e",
   "metadata": {},
   "outputs": [],
   "source": [
    "# check what experiment numbers have already been run, \n",
    "# find the next highest number to name the data save folder\n",
    "exp_num = 0\n",
    "satisfied = 0\n",
    "while not satisfied:\n",
    "    exp_path = save_path + 'exp_' + str(exp_num) + '\\\\' \n",
    "    try:\n",
    "        os.mkdir(exp_path)\n",
    "        satisfied = 1\n",
    "    except OSError as error: \n",
    "        exp_num = exp_num + 1\n",
    "\n",
    "# start a save file\n",
    "savename = exp_path+'exp'+str(exp_num)+'.hdf5'\n",
    "sav = h5py.File(savename, 'w')\n",
    "\n",
    "print('data will be saved at the following location:')\n",
    "print(savename)\n",
    "print('')"
   ]
  },
  {
   "cell_type": "markdown",
   "id": "66b6fbdb",
   "metadata": {},
   "source": [
    "calculate the distances between all cones in each mosaic and save them"
   ]
  },
  {
   "cell_type": "code",
   "execution_count": 3,
   "id": "b24a42d3",
   "metadata": {},
   "outputs": [
    {
     "name": "stdout",
     "output_type": "stream",
     "text": [
      "(1470, 2)\n",
      "(960, 2)\n",
      "(430, 2)\n",
      "(80, 2)\n",
      "(0,)\n"
     ]
    },
    {
     "ename": "ValueError",
     "evalue": "not enough values to unpack (expected 2, got 1)",
     "output_type": "error",
     "traceback": [
      "\u001b[1;31m---------------------------------------------------------------------------\u001b[0m",
      "\u001b[1;31mValueError\u001b[0m                                Traceback (most recent call last)",
      "\u001b[1;32m~\\AppData\\Local\\Temp/ipykernel_7424/2190189981.py\u001b[0m in \u001b[0;36m<module>\u001b[1;34m\u001b[0m\n\u001b[0;32m      2\u001b[0m \u001b[1;33m\u001b[0m\u001b[0m\n\u001b[0;32m      3\u001b[0m \u001b[1;32mfor\u001b[0m \u001b[0mind\u001b[0m\u001b[1;33m,\u001b[0m\u001b[0mfl\u001b[0m \u001b[1;32min\u001b[0m \u001b[0menumerate\u001b[0m\u001b[1;33m(\u001b[0m\u001b[0mcoord_data\u001b[0m\u001b[1;33m)\u001b[0m\u001b[1;33m:\u001b[0m\u001b[1;33m\u001b[0m\u001b[1;33m\u001b[0m\u001b[0m\n\u001b[1;32m----> 4\u001b[1;33m     \u001b[0mcone_dists\u001b[0m\u001b[1;33m.\u001b[0m\u001b[0mappend\u001b[0m\u001b[1;33m(\u001b[0m\u001b[0mcalc\u001b[0m\u001b[1;33m.\u001b[0m\u001b[0mdist_matrices\u001b[0m\u001b[1;33m(\u001b[0m\u001b[0mcoord_data\u001b[0m\u001b[1;33m[\u001b[0m\u001b[0mind\u001b[0m\u001b[1;33m]\u001b[0m\u001b[1;33m)\u001b[0m\u001b[1;33m)\u001b[0m\u001b[1;33m\u001b[0m\u001b[1;33m\u001b[0m\u001b[0m\n\u001b[0m\u001b[0;32m      5\u001b[0m \u001b[1;33m\u001b[0m\u001b[0m\n\u001b[0;32m      6\u001b[0m \u001b[0msav\u001b[0m\u001b[1;33m.\u001b[0m\u001b[0mcreate_dataset\u001b[0m\u001b[1;33m(\u001b[0m\u001b[0mcone_dists\u001b[0m\u001b[1;33m,\u001b[0m \u001b[0mdata\u001b[0m\u001b[1;33m=\u001b[0m\u001b[0mcone_dists\u001b[0m\u001b[1;33m)\u001b[0m\u001b[1;33m\u001b[0m\u001b[1;33m\u001b[0m\u001b[0m\n",
      "\u001b[1;32mc:\\users\\schle\\documents\\github\\incubator-2022-geometry-of-color\\mosaic_topog\\mosaic_topog\\calc.py\u001b[0m in \u001b[0;36mdist_matrices\u001b[1;34m(coords, dims, self)\u001b[0m\n\u001b[0;32m     36\u001b[0m     \u001b[1;31m# 2D array of every intercone distance in the mosaic\u001b[0m\u001b[1;33m\u001b[0m\u001b[1;33m\u001b[0m\u001b[0m\n\u001b[0;32m     37\u001b[0m     \u001b[0mprint\u001b[0m\u001b[1;33m(\u001b[0m\u001b[0mcoords\u001b[0m\u001b[1;33m.\u001b[0m\u001b[0mshape\u001b[0m\u001b[1;33m)\u001b[0m\u001b[1;33m\u001b[0m\u001b[1;33m\u001b[0m\u001b[0m\n\u001b[1;32m---> 38\u001b[1;33m     \u001b[0mdist_square\u001b[0m \u001b[1;33m=\u001b[0m \u001b[0mspatial\u001b[0m\u001b[1;33m.\u001b[0m\u001b[0mdistance_matrix\u001b[0m\u001b[1;33m(\u001b[0m\u001b[0mcoords\u001b[0m\u001b[1;33m,\u001b[0m \u001b[0mcoords\u001b[0m\u001b[1;33m)\u001b[0m\u001b[1;33m\u001b[0m\u001b[1;33m\u001b[0m\u001b[0m\n\u001b[0m\u001b[0;32m     39\u001b[0m \u001b[1;33m\u001b[0m\u001b[0m\n\u001b[0;32m     40\u001b[0m     \u001b[1;32mif\u001b[0m \u001b[0mself\u001b[0m \u001b[1;33m==\u001b[0m \u001b[1;33m-\u001b[0m\u001b[1;36m1\u001b[0m\u001b[1;33m:\u001b[0m\u001b[1;33m\u001b[0m\u001b[1;33m\u001b[0m\u001b[0m\n",
      "\u001b[1;32m~\\anaconda3\\envs\\incubator\\lib\\site-packages\\scipy\\spatial\\kdtree.py\u001b[0m in \u001b[0;36mdistance_matrix\u001b[1;34m(x, y, p, threshold)\u001b[0m\n\u001b[0;32m    907\u001b[0m \u001b[1;33m\u001b[0m\u001b[0m\n\u001b[0;32m    908\u001b[0m     \u001b[0mx\u001b[0m \u001b[1;33m=\u001b[0m \u001b[0mnp\u001b[0m\u001b[1;33m.\u001b[0m\u001b[0masarray\u001b[0m\u001b[1;33m(\u001b[0m\u001b[0mx\u001b[0m\u001b[1;33m)\u001b[0m\u001b[1;33m\u001b[0m\u001b[1;33m\u001b[0m\u001b[0m\n\u001b[1;32m--> 909\u001b[1;33m     \u001b[0mm\u001b[0m\u001b[1;33m,\u001b[0m \u001b[0mk\u001b[0m \u001b[1;33m=\u001b[0m \u001b[0mx\u001b[0m\u001b[1;33m.\u001b[0m\u001b[0mshape\u001b[0m\u001b[1;33m\u001b[0m\u001b[1;33m\u001b[0m\u001b[0m\n\u001b[0m\u001b[0;32m    910\u001b[0m     \u001b[0my\u001b[0m \u001b[1;33m=\u001b[0m \u001b[0mnp\u001b[0m\u001b[1;33m.\u001b[0m\u001b[0masarray\u001b[0m\u001b[1;33m(\u001b[0m\u001b[0my\u001b[0m\u001b[1;33m)\u001b[0m\u001b[1;33m\u001b[0m\u001b[1;33m\u001b[0m\u001b[0m\n\u001b[0;32m    911\u001b[0m     \u001b[0mn\u001b[0m\u001b[1;33m,\u001b[0m \u001b[0mkk\u001b[0m \u001b[1;33m=\u001b[0m \u001b[0my\u001b[0m\u001b[1;33m.\u001b[0m\u001b[0mshape\u001b[0m\u001b[1;33m\u001b[0m\u001b[1;33m\u001b[0m\u001b[0m\n",
      "\u001b[1;31mValueError\u001b[0m: not enough values to unpack (expected 2, got 1)"
     ]
    }
   ],
   "source": [
    "cone_dists = []\n",
    "\n",
    "for ind,fl in enumerate(coord_data):     \n",
    "    cone_dists.append(calc.dist_matrices(coord_data[ind]))\n",
    "\n",
    "sav.create_dataset(cone_dists, data=cone_dists)"
   ]
  },
  {
   "cell_type": "code",
   "execution_count": null,
   "id": "57c15623",
   "metadata": {},
   "outputs": [],
   "source": []
  },
  {
   "cell_type": "code",
   "execution_count": null,
   "id": "75cdc09f",
   "metadata": {},
   "outputs": [],
   "source": []
  },
  {
   "cell_type": "code",
   "execution_count": null,
   "id": "73db5b0c",
   "metadata": {},
   "outputs": [],
   "source": []
  }
 ],
 "metadata": {
  "kernelspec": {
   "display_name": "Python 3 (ipykernel)",
   "language": "python",
   "name": "python3"
  },
  "language_info": {
   "codemirror_mode": {
    "name": "ipython",
    "version": 3
   },
   "file_extension": ".py",
   "mimetype": "text/x-python",
   "name": "python",
   "nbconvert_exporter": "python",
   "pygments_lexer": "ipython3",
   "version": "3.9.7"
  }
 },
 "nbformat": 4,
 "nbformat_minor": 5
}
