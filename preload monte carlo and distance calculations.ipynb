{
 "cells": [
  {
   "cell_type": "markdown",
   "id": "1a025eed",
   "metadata": {},
   "source": [
    "import packages & selct dataset"
   ]
  },
  {
   "cell_type": "code",
   "execution_count": null,
   "id": "f90923e3",
   "metadata": {},
   "outputs": [],
   "source": [
    "import numpy as np\n",
    "import matplotlib.pyplot as plt\n",
    "from scipy import spatial\n",
    "\n",
    "import mosaic_topog.utilities as mostop\n",
    "import mosaic_topog.flsyst as flsyst\n",
    "import mosaic_topog.show as show\n",
    "import mosaic_topog.calc as calc\n",
    "\n",
    "import os\n",
    "\n",
    "fold_path = 'C:\\\\Users\\\\schle\\Documents\\\\GitHub\\\\Incubator-2022-Geometry-of-Color\\\\CSV data all OCT locs Jan 2022\\\\'\n",
    "\n",
    "subject = np.asarray(['AO001R', 'AO008R'])\n",
    "angle = np.asarray(['temporal', 'nasal', 'superior', 'inferior'])\n",
    "eccentricity = np.asarray([1.5, 4, 10])\n",
    "\n",
    "coord_fltype = '.csv'\n",
    "img_fltype = '.png'\n",
    "\n",
    "filetypes = [coord_fltype,img_fltype]\n",
    "\n",
    "conetype_ids = ['all','L','M','S','unclassed']\n",
    "\n",
    "conetype_colors = ['y','r','g','b','k']\n",
    "conetype_sizes = [10, 10, 10, 30]\n",
    "\n",
    "bin_width = 5\n",
    "\n",
    "num_mc = 100 # number of monte carlo mosaics to generate\n",
    "\n",
    "categories = [subject, angle, eccentricity]"
   ]
  },
  {
   "cell_type": "markdown",
   "id": "9341fa1e",
   "metadata": {},
   "source": [
    "load in coordinate data and images"
   ]
  },
  {
   "cell_type": "code",
   "execution_count": null,
   "id": "88f37ca1",
   "metadata": {},
   "outputs": [],
   "source": [
    "[data, subj_vect, ang_vect, ecc_vect, contyp_vect, fltyp_vect, mos_vect] = flsyst.getConeData(fold_path,subject,angle,eccentricity,conetype_ids,filetypes)"
   ]
  },
  {
   "cell_type": "markdown",
   "id": "051fc1c0",
   "metadata": {},
   "source": [
    "plot cones on the image "
   ]
  },
  {
   "cell_type": "code",
   "execution_count": null,
   "id": "050f3f8c",
   "metadata": {},
   "outputs": [],
   "source": [
    "img_inds = np.nonzero(fltyp_vect==1)[0]\n",
    "\n",
    "mosaics = np.unique(mos_vect)\n",
    "\n",
    "for mos in mosaics:\n",
    "    coords = []\n",
    "    this_mos = np.nonzero(mos_vect==mos)[0]\n",
    "    img = data[np.intersect1d(this_mos,np.nonzero(fltyp_vect==1)[0])[0]]\n",
    "    \n",
    "    for conetype,string in enumerate(conetype_ids):\n",
    "        \n",
    "        this_contyp = np.nonzero(contyp_vect==conetype)[0]\n",
    "        coords.append(data[np.intersect1d(this_mos,this_contyp)[0]])\n",
    "        \n",
    "    show.plotOnROI(img, coords, conetype_ids, conetype_colors,10)\n",
    "    "
   ]
  },
  {
   "cell_type": "markdown",
   "id": "3c18e048",
   "metadata": {},
   "source": [
    "calculate the distances between all cones in each mosaic"
   ]
  },
  {
   "cell_type": "code",
   "execution_count": null,
   "id": "9564f81a",
   "metadata": {},
   "outputs": [],
   "source": [
    "for mos in mosaics:\n",
    "    \n",
    "    "
   ]
  }
 ],
 "metadata": {
  "kernelspec": {
   "display_name": "Python 3 (ipykernel)",
   "language": "python",
   "name": "python3"
  },
  "language_info": {
   "codemirror_mode": {
    "name": "ipython",
    "version": 3
   },
   "file_extension": ".py",
   "mimetype": "text/x-python",
   "name": "python",
   "nbconvert_exporter": "python",
   "pygments_lexer": "ipython3",
   "version": "3.9.7"
  }
 },
 "nbformat": 4,
 "nbformat_minor": 5
}
