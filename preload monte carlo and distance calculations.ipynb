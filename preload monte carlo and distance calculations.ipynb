{
 "cells": [
  {
   "cell_type": "markdown",
   "id": "1a025eed",
   "metadata": {},
   "source": [
    "import packages & selct dataset"
   ]
  },
  {
   "cell_type": "code",
   "execution_count": 6,
   "id": "f90923e3",
   "metadata": {},
   "outputs": [],
   "source": [
    "import numpy as np\n",
    "import matplotlib.pyplot as plt\n",
    "from scipy import spatial\n",
    "import os\n",
    "import h5py\n",
    "import importlib\n",
    "import glob\n",
    "import yaml\n",
    "import sys\n",
    "\n",
    "import mosaic_topog.utilities as util\n",
    "import mosaic_topog.flsyst as flsyst\n",
    "import mosaic_topog.show as show\n",
    "import mosaic_topog.calc as calc\n",
    "\n",
    "data_path = 'C:\\\\Users\\\\schle\\Documents\\\\GitHub\\\\Incubator-2022-Geometry-of-Color\\\\CSV data all OCT locs Jan 2022\\\\'\n",
    "save_path = 'C:\\\\Users\\\\schle\\Documents\\\\Incubator Data\\\\'\n",
    "\n",
    "subject = np.asarray(['AO001R', 'AO008R'])\n",
    "angle = np.asarray(['temporal', 'nasal', 'superior', 'inferior'])\n",
    "eccentricity = np.asarray(['1.5', '4', '10'])\n",
    "\n",
    "coord_fltype = '.csv'\n",
    "img_fltype = '.png'\n",
    "\n",
    "dist_unit = 'pixels'\n",
    "\n",
    "filetypes = [coord_fltype, img_fltype]\n",
    "\n",
    "conetype_ids = ['all','L','M','S','unclassed']\n",
    "\n",
    "conetype_colors = ['y','r','g','b','k']\n",
    "conetype_sizes = [10, 10, 10, 30]\n",
    "\n",
    "bin_width = 5\n",
    "\n",
    "num_mc = 100 # number of monte carlo mosaics to generate\n",
    "\n",
    "categories = [subject, angle, eccentricity]\n",
    "\n",
    "save_new = 2 # change to strings\n",
    "save_cats = {'meta','input_data','intracone_dists'}"
   ]
  },
  {
   "cell_type": "markdown",
   "id": "9341fa1e",
   "metadata": {},
   "source": [
    "load in coordinate data and images"
   ]
  },
  {
   "cell_type": "code",
   "execution_count": null,
   "id": "88f37ca1",
   "metadata": {
    "scrolled": true
   },
   "outputs": [],
   "source": [
    "[coord_data, coord_mosaics, coord_index,coord_flnames] = flsyst.getConeData(data_path,subject,angle,eccentricity,conetype_ids,filetypes[0])\n",
    "[img_data, img_mosaics, img_index_img_flnames] = flsyst.getConeData(data_path,subject,angle,eccentricity,conetype_ids,filetypes[1])\n"
   ]
  },
  {
   "cell_type": "markdown",
   "id": "051fc1c0",
   "metadata": {},
   "source": [
    "plot cones on the image "
   ]
  },
  {
   "cell_type": "code",
   "execution_count": null,
   "id": "050f3f8c",
   "metadata": {
    "scrolled": true
   },
   "outputs": [],
   "source": [
    "# for each mosaic we have an image of...\n",
    "axes = []\n",
    "for ind,mos in enumerate(img_mosaics):\n",
    "    # get the image\n",
    "    img = img_data[ind]\n",
    "    \n",
    "    # find the same mosaic in our coordinate data \n",
    "    # (may or may not be represented by the same number) \n",
    "    coord_mos_ind = coord_mosaics.index(mos)\n",
    "    \n",
    "    # pull all coone coordinate filse associated with this mosaic\n",
    "    coord_mos = flsyst.getDataByCatVal(coord_data, coord_index['mosaics'], coord_mos_ind)\n",
    "    \n",
    "    # make a dictionary of all coordinate files and their associated conetype_ids\n",
    "    coords = {}\n",
    "    for ind,id in enumerate(conetype_ids):\n",
    "        coords[id] = coord_mos[ind]\n",
    "    \n",
    "    axes.append(show.plotOnROI(img, coords, conetype_ids, mos, conetype_colors, title=mos, figsize=10))\n",
    "    "
   ]
  },
  {
   "cell_type": "markdown",
   "id": "f5667905",
   "metadata": {},
   "source": [
    "reimport packages in dev, reload in the mosaic data"
   ]
  },
  {
   "cell_type": "code",
   "execution_count": null,
   "id": "57c15623",
   "metadata": {},
   "outputs": [],
   "source": [
    "[data, mosaics, index, flnames] = flsyst.getConeData(data_path,subject,angle,eccentricity,conetype_ids,filetypes[0])"
   ]
  },
  {
   "cell_type": "markdown",
   "id": "4f36c5dd",
   "metadata": {},
   "source": [
    "load in the save file configuration yaml"
   ]
  },
  {
   "cell_type": "markdown",
   "id": "1a00082b",
   "metadata": {},
   "source": [
    "run cone data through processes according to user settings"
   ]
  },
  {
   "cell_type": "code",
   "execution_count": 11,
   "id": "3f41f885",
   "metadata": {},
   "outputs": [],
   "source": []
  },
  {
   "cell_type": "code",
   "execution_count": 12,
   "id": "b89a04a4",
   "metadata": {},
   "outputs": [],
   "source": [
    "def runProcesses(data_path, subject, angle, eccentricity, conetype_ids, processes, collect_all, save_names):\n",
    "    for p in processes.keys():\n",
    "        for ind in processes[p]:\n",
    "        \n",
    "            # open save file for writing and add group for this process\n",
    "            savename = savenames[ind]\n",
    "            sav = h5py.File(savename, 'w')\n",
    "            group = sav.create_group(p)\n",
    "\n",
    "            if p == 'meta':\n",
    "                print('boop')\n",
    "            elif p == 'input_data':\n",
    "                print('boop')\n",
    "            elif p == \"intracone_dists\":\n",
    "                \n",
    "                \n",
    "                for ind in processes[p]:\n",
    "                    \n",
    "                    \n",
    "            else:\n",
    "                print('\"' + p + '\" is not a valid process. skipping.')"
   ]
  },
  {
   "cell_type": "code",
   "execution_count": 13,
   "id": "d1f123e1",
   "metadata": {},
   "outputs": [
    {
     "name": "stdout",
     "output_type": "stream",
     "text": [
      "found 110 files\n",
      "\n",
      "{'name': 'savefl_config', 'meta': ['subject', 'angle', 'eccentricity'], 'input': ['coords', 'types', 'cone_img'], 'intracone_dists': ['dists', 'mean_nearest', 'std_nearest', 'dist_unit']}\n",
      "element \"input_data\" in variable \"save_cat\" is not a save category specified in savefl_config.yml. skipping.\n"
     ]
    },
    {
     "ename": "NameError",
     "evalue": "name 'save_names' is not defined",
     "output_type": "error",
     "traceback": [
      "\u001b[1;31m---------------------------------------------------------------------------\u001b[0m",
      "\u001b[1;31mNameError\u001b[0m                                 Traceback (most recent call last)",
      "\u001b[1;32m~\\AppData\\Local\\Temp/ipykernel_2940/284999000.py\u001b[0m in \u001b[0;36m<module>\u001b[1;34m\u001b[0m\n\u001b[0;32m      3\u001b[0m \u001b[0mprocesses\u001b[0m\u001b[1;33m,\u001b[0m \u001b[0mcollect_all\u001b[0m\u001b[1;33m,\u001b[0m \u001b[0msavenames\u001b[0m \u001b[1;33m=\u001b[0m \u001b[0mgetProcessesToRun\u001b[0m\u001b[1;33m(\u001b[0m\u001b[0msave_path\u001b[0m\u001b[1;33m,\u001b[0m\u001b[0mflnames\u001b[0m\u001b[1;33m,\u001b[0m\u001b[0msave_cats\u001b[0m\u001b[1;33m,\u001b[0m\u001b[0msave_new\u001b[0m\u001b[1;33m)\u001b[0m\u001b[1;33m\u001b[0m\u001b[1;33m\u001b[0m\u001b[0m\n\u001b[0;32m      4\u001b[0m \u001b[1;33m\u001b[0m\u001b[0m\n\u001b[1;32m----> 5\u001b[1;33m \u001b[0mrunProcesses\u001b[0m\u001b[1;33m(\u001b[0m\u001b[0mdata_path\u001b[0m\u001b[1;33m,\u001b[0m \u001b[0msubject\u001b[0m\u001b[1;33m,\u001b[0m \u001b[0mangle\u001b[0m\u001b[1;33m,\u001b[0m \u001b[0meccentricity\u001b[0m\u001b[1;33m,\u001b[0m \u001b[0mconetype_ids\u001b[0m\u001b[1;33m,\u001b[0m \u001b[0mprocesses\u001b[0m\u001b[1;33m,\u001b[0m \u001b[0mcollect_all\u001b[0m\u001b[1;33m,\u001b[0m \u001b[0msave_names\u001b[0m\u001b[1;33m)\u001b[0m\u001b[1;33m\u001b[0m\u001b[1;33m\u001b[0m\u001b[0m\n\u001b[0m",
      "\u001b[1;31mNameError\u001b[0m: name 'save_names' is not defined"
     ]
    }
   ],
   "source": [
    "\n",
    "processes, collect_all, savenames = getProcessesToRun(save_path,flnames,save_cats,save_new) \n",
    "\n",
    "runProcesses(data_path, subject, angle, eccentricity, conetype_ids, processes, collect_all, save_names)"
   ]
  },
  {
   "cell_type": "code",
   "execution_count": 16,
   "id": "262400a0",
   "metadata": {},
   "outputs": [
    {
     "name": "stdout",
     "output_type": "stream",
     "text": [
      "{'meta': ['subject', 'angle', 'eccentricity'], 'input_data': ['coords', 'types', 'cone_img'], 'intracone_dists': ['dists', 'mean_nearest', 'std_nearest', 'dist_unit']}\n"
     ]
    }
   ],
   "source": [
    "with open(\"savefl_config.yml\", \"r\") as stream:\n",
    "    try:\n",
    "        sav_cfg = yaml.safe_load(stream)\n",
    "        print(sav_cfg)\n",
    "    except yaml.YAMLError as exc:\n",
    "        print(exc)"
   ]
  },
  {
   "cell_type": "code",
   "execution_count": 17,
   "id": "5abf829b",
   "metadata": {},
   "outputs": [
    {
     "data": {
      "text/plain": [
       "{'intracone_dists': [0,\n",
       "  1,\n",
       "  2,\n",
       "  3,\n",
       "  4,\n",
       "  5,\n",
       "  6,\n",
       "  7,\n",
       "  8,\n",
       "  9,\n",
       "  10,\n",
       "  11,\n",
       "  12,\n",
       "  13,\n",
       "  14,\n",
       "  15,\n",
       "  16,\n",
       "  17,\n",
       "  18,\n",
       "  19,\n",
       "  20,\n",
       "  21,\n",
       "  22,\n",
       "  23,\n",
       "  24,\n",
       "  25,\n",
       "  26,\n",
       "  27,\n",
       "  28,\n",
       "  29,\n",
       "  30,\n",
       "  31,\n",
       "  32,\n",
       "  33,\n",
       "  34,\n",
       "  35,\n",
       "  36,\n",
       "  37,\n",
       "  38,\n",
       "  39,\n",
       "  40,\n",
       "  41,\n",
       "  42,\n",
       "  43,\n",
       "  44,\n",
       "  45,\n",
       "  46,\n",
       "  47,\n",
       "  48,\n",
       "  49,\n",
       "  50,\n",
       "  51,\n",
       "  52,\n",
       "  53,\n",
       "  54,\n",
       "  55,\n",
       "  56,\n",
       "  57,\n",
       "  58,\n",
       "  59,\n",
       "  60,\n",
       "  61,\n",
       "  62,\n",
       "  63,\n",
       "  64,\n",
       "  65,\n",
       "  66,\n",
       "  67,\n",
       "  68,\n",
       "  69,\n",
       "  70,\n",
       "  71,\n",
       "  72,\n",
       "  73,\n",
       "  74,\n",
       "  75,\n",
       "  76,\n",
       "  77,\n",
       "  78,\n",
       "  79,\n",
       "  80,\n",
       "  81,\n",
       "  82,\n",
       "  83,\n",
       "  84,\n",
       "  85,\n",
       "  86,\n",
       "  87,\n",
       "  88,\n",
       "  89,\n",
       "  90,\n",
       "  91,\n",
       "  92,\n",
       "  93,\n",
       "  94,\n",
       "  95,\n",
       "  96,\n",
       "  97,\n",
       "  98,\n",
       "  99,\n",
       "  100,\n",
       "  101,\n",
       "  102,\n",
       "  103,\n",
       "  104,\n",
       "  105,\n",
       "  106,\n",
       "  107,\n",
       "  108,\n",
       "  109],\n",
       " 'meta': [0,\n",
       "  1,\n",
       "  2,\n",
       "  3,\n",
       "  4,\n",
       "  5,\n",
       "  6,\n",
       "  7,\n",
       "  8,\n",
       "  9,\n",
       "  10,\n",
       "  11,\n",
       "  12,\n",
       "  13,\n",
       "  14,\n",
       "  15,\n",
       "  16,\n",
       "  17,\n",
       "  18,\n",
       "  19,\n",
       "  20,\n",
       "  21,\n",
       "  22,\n",
       "  23,\n",
       "  24,\n",
       "  25,\n",
       "  26,\n",
       "  27,\n",
       "  28,\n",
       "  29,\n",
       "  30,\n",
       "  31,\n",
       "  32,\n",
       "  33,\n",
       "  34,\n",
       "  35,\n",
       "  36,\n",
       "  37,\n",
       "  38,\n",
       "  39,\n",
       "  40,\n",
       "  41,\n",
       "  42,\n",
       "  43,\n",
       "  44,\n",
       "  45,\n",
       "  46,\n",
       "  47,\n",
       "  48,\n",
       "  49,\n",
       "  50,\n",
       "  51,\n",
       "  52,\n",
       "  53,\n",
       "  54,\n",
       "  55,\n",
       "  56,\n",
       "  57,\n",
       "  58,\n",
       "  59,\n",
       "  60,\n",
       "  61,\n",
       "  62,\n",
       "  63,\n",
       "  64,\n",
       "  65,\n",
       "  66,\n",
       "  67,\n",
       "  68,\n",
       "  69,\n",
       "  70,\n",
       "  71,\n",
       "  72,\n",
       "  73,\n",
       "  74,\n",
       "  75,\n",
       "  76,\n",
       "  77,\n",
       "  78,\n",
       "  79,\n",
       "  80,\n",
       "  81,\n",
       "  82,\n",
       "  83,\n",
       "  84,\n",
       "  85,\n",
       "  86,\n",
       "  87,\n",
       "  88,\n",
       "  89,\n",
       "  90,\n",
       "  91,\n",
       "  92,\n",
       "  93,\n",
       "  94,\n",
       "  95,\n",
       "  96,\n",
       "  97,\n",
       "  98,\n",
       "  99,\n",
       "  100,\n",
       "  101,\n",
       "  102,\n",
       "  103,\n",
       "  104,\n",
       "  105,\n",
       "  106,\n",
       "  107,\n",
       "  108,\n",
       "  109]}"
      ]
     },
     "execution_count": 17,
     "metadata": {},
     "output_type": "execute_result"
    }
   ],
   "source": [
    "processes"
   ]
  },
  {
   "cell_type": "code",
   "execution_count": 18,
   "id": "211cf2c2",
   "metadata": {},
   "outputs": [
    {
     "ename": "AttributeError",
     "evalue": "'builtin_function_or_method' object has no attribute 'copy'",
     "output_type": "error",
     "traceback": [
      "\u001b[1;31m---------------------------------------------------------------------------\u001b[0m",
      "\u001b[1;31mAttributeError\u001b[0m                            Traceback (most recent call last)",
      "\u001b[1;32m~\\AppData\\Local\\Temp/ipykernel_2940/3473675658.py\u001b[0m in \u001b[0;36m<module>\u001b[1;34m\u001b[0m\n\u001b[1;32m----> 1\u001b[1;33m \u001b[0mpossible\u001b[0m \u001b[1;33m=\u001b[0m \u001b[0mglobals\u001b[0m\u001b[1;33m.\u001b[0m\u001b[0mcopy\u001b[0m\u001b[1;33m(\u001b[0m\u001b[1;33m)\u001b[0m\u001b[1;33m\u001b[0m\u001b[1;33m\u001b[0m\u001b[0m\n\u001b[0m",
      "\u001b[1;31mAttributeError\u001b[0m: 'builtin_function_or_method' object has no attribute 'copy'"
     ]
    }
   ],
   "source": [
    "possible = globals.copy()"
   ]
  },
  {
   "cell_type": "code",
   "execution_count": null,
   "id": "0c7899c7",
   "metadata": {},
   "outputs": [],
   "source": []
  }
 ],
 "metadata": {
  "kernelspec": {
   "display_name": "Python 3 (ipykernel)",
   "language": "python",
   "name": "python3"
  },
  "language_info": {
   "codemirror_mode": {
    "name": "ipython",
    "version": 3
   },
   "file_extension": ".py",
   "mimetype": "text/x-python",
   "name": "python",
   "nbconvert_exporter": "python",
   "pygments_lexer": "ipython3",
   "version": "3.9.7"
  }
 },
 "nbformat": 4,
 "nbformat_minor": 5
}
